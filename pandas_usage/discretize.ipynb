{
 "cells": [
  {
   "cell_type": "code",
   "execution_count": 1,
   "metadata": {},
   "outputs": [],
   "source": [
    "import pandas as pd\n",
    "from sklearn import datasets\n",
    "import matplotlib.pyplot as plt\n",
    "import seaborn as sns\n",
    "import numpy as np"
   ]
  },
  {
   "cell_type": "code",
   "execution_count": 2,
   "metadata": {},
   "outputs": [
    {
     "data": {
      "text/html": [
       "<div>\n",
       "<table border=\"1\" class=\"dataframe\">\n",
       "  <thead>\n",
       "    <tr style=\"text-align: right;\">\n",
       "      <th></th>\n",
       "      <th>sepal length (cm)</th>\n",
       "      <th>sepal width (cm)</th>\n",
       "      <th>petal length (cm)</th>\n",
       "      <th>petal width (cm)</th>\n",
       "      <th>species</th>\n",
       "    </tr>\n",
       "  </thead>\n",
       "  <tbody>\n",
       "    <tr>\n",
       "      <th>0</th>\n",
       "      <td>5.1</td>\n",
       "      <td>3.5</td>\n",
       "      <td>1.4</td>\n",
       "      <td>0.2</td>\n",
       "      <td>0</td>\n",
       "    </tr>\n",
       "    <tr>\n",
       "      <th>1</th>\n",
       "      <td>4.9</td>\n",
       "      <td>3.0</td>\n",
       "      <td>1.4</td>\n",
       "      <td>0.2</td>\n",
       "      <td>0</td>\n",
       "    </tr>\n",
       "  </tbody>\n",
       "</table>\n",
       "</div>"
      ],
      "text/plain": [
       "<div>\n",
       "<table border=\"1\" class=\"dataframe\">\n",
       "  <thead>\n",
       "    <tr style=\"text-align: right;\">\n",
       "      <th></th>\n",
       "      <th>sepal length (cm)</th>\n",
       "      <th>sepal width (cm)</th>\n",
       "      <th>petal length (cm)</th>\n",
       "      <th>petal width (cm)</th>\n",
       "      <th>species</th>\n",
       "    </tr>\n",
       "  </thead>\n",
       "  <tbody>\n",
       "    <tr>\n",
       "      <th>0</th>\n",
       "      <td>5.1</td>\n",
       "      <td>3.5</td>\n",
       "      <td>1.4</td>\n",
       "      <td>0.2</td>\n",
       "      <td>0</td>\n",
       "    </tr>\n",
       "    <tr>\n",
       "      <th>1</th>\n",
       "      <td>4.9</td>\n",
       "      <td>3.0</td>\n",
       "      <td>1.4</td>\n",
       "      <td>0.2</td>\n",
       "      <td>0</td>\n",
       "    </tr>\n",
       "  </tbody>\n",
       "</table>\n",
       "</div>"
      ]
     },
     "execution_count": 2,
     "metadata": {},
     "output_type": "execute_result"
    }
   ],
   "source": [
    "iris_data = datasets.load_iris()\n",
    "iris = pd.DataFrame(iris_data.data, columns=iris_data.feature_names)\n",
    "iris['species'] = pd.Series(iris_data.target, dtype='category')\n",
    "iris.head(2)"
   ]
  },
  {
   "cell_type": "code",
   "execution_count": 6,
   "metadata": {},
   "outputs": [],
   "source": [
    "pd.cut(iris['sepal length (cm)'], 5)"
   ]
  },
  {
   "cell_type": "code",
   "execution_count": 11,
   "metadata": {},
   "outputs": [
    {
     "data": {
      "text/plain": [
       "(4.296, 5.02]    32\n(5.02, 5.74]     41\n(5.74, 6.46]     42\n(6.46, 7.18]     24\n(7.18, 7.9]      11\nName: sepal length (cm), dtype: int64"
      ]
     },
     "execution_count": 11,
     "metadata": {},
     "output_type": "execute_result"
    }
   ],
   "source": [
    "pd.cut(iris['sepal length (cm)'], 5).value_counts().sort_index()"
   ]
  },
  {
   "cell_type": "code",
   "execution_count": 12,
   "metadata": {
    "collapsed": true
   },
   "outputs": [
    {
     "data": {
      "text/plain": [
       "0         (5, 5.6]\n1         [4.3, 5]\n2         [4.3, 5]\n3         [4.3, 5]\n4         [4.3, 5]\n5         (5, 5.6]\n6         [4.3, 5]\n7         [4.3, 5]\n8         [4.3, 5]\n9         [4.3, 5]\n10        (5, 5.6]\n11        [4.3, 5]\n12        [4.3, 5]\n13        [4.3, 5]\n14      (5.6, 6.1]\n15      (5.6, 6.1]\n16        (5, 5.6]\n17        (5, 5.6]\n18      (5.6, 6.1]\n19        (5, 5.6]\n20        (5, 5.6]\n21        (5, 5.6]\n22        [4.3, 5]\n23        (5, 5.6]\n24        [4.3, 5]\n25        [4.3, 5]\n26        [4.3, 5]\n27        (5, 5.6]\n28        (5, 5.6]\n29        [4.3, 5]\n          ...     \n120    (6.52, 7.9]\n121       (5, 5.6]\n122    (6.52, 7.9]\n123    (6.1, 6.52]\n124    (6.52, 7.9]\n125    (6.52, 7.9]\n126    (6.1, 6.52]\n127     (5.6, 6.1]\n128    (6.1, 6.52]\n129    (6.52, 7.9]\n130    (6.52, 7.9]\n131    (6.52, 7.9]\n132    (6.1, 6.52]\n133    (6.1, 6.52]\n134     (5.6, 6.1]\n135    (6.52, 7.9]\n136    (6.1, 6.52]\n137    (6.1, 6.52]\n138     (5.6, 6.1]\n139    (6.52, 7.9]\n140    (6.52, 7.9]\n141    (6.52, 7.9]\n142     (5.6, 6.1]\n143    (6.52, 7.9]\n144    (6.52, 7.9]\n145    (6.52, 7.9]\n146    (6.1, 6.52]\n147    (6.1, 6.52]\n148    (6.1, 6.52]\n149     (5.6, 6.1]\nName: sepal length (cm), dtype: category\nCategories (5, object): [[4.3, 5] < (5, 5.6] < (5.6, 6.1] < (6.1, 6.52] < (6.52, 7.9]]"
      ]
     },
     "execution_count": 12,
     "metadata": {},
     "output_type": "execute_result"
    }
   ],
   "source": [
    "pd.qcut(iris['sepal length (cm)'], 5)"
   ]
  },
  {
   "cell_type": "code",
   "execution_count": 16,
   "metadata": {},
   "outputs": [
    {
     "data": {
      "text/plain": [
       "[4.3, 5]       32\n(5, 5.6]       33\n(5.6, 6.1]     30\n(6.1, 6.52]    25\n(6.52, 7.9]    30\nName: sepal length (cm), dtype: int64"
      ]
     },
     "execution_count": 16,
     "metadata": {},
     "output_type": "execute_result"
    }
   ],
   "source": [
    "pd.qcut(iris['sepal length (cm)'], 5).value_counts().sort_index()"
   ]
  },
  {
   "cell_type": "code",
   "execution_count": null,
   "metadata": {},
   "outputs": [],
   "source": [
    ""
   ]
  }
 ],
 "metadata": {},
 "nbformat": 4,
 "nbformat_minor": 0
}